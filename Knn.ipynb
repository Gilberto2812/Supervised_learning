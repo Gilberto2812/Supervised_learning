{
  "nbformat": 4,
  "nbformat_minor": 0,
  "metadata": {
    "colab": {
      "provenance": [],
      "toc_visible": true
    },
    "kernelspec": {
      "name": "python3",
      "display_name": "Python 3"
    },
    "language_info": {
      "name": "python"
    }
  },
  "cells": [
    {
      "cell_type": "code",
      "execution_count": 1,
      "metadata": {
        "id": "vffDrbz4WMp_"
      },
      "outputs": [],
      "source": [
        "#Importing dependencies\n",
        "import pandas as pd\n",
        "import numpy as np"
      ]
    },
    {
      "cell_type": "code",
      "source": [
        "#Importing model\n",
        "from sklearn.neighbors import KNeighborsClassifier\n",
        "\n",
        "#Import data\n",
        "from sklearn.datasets import load_breast_cancer\n",
        "datos = load_breast_cancer()\n",
        "ft = load_breast_cancer().feature_names"
      ],
      "metadata": {
        "id": "MriX9XkDb6Vl"
      },
      "execution_count": 2,
      "outputs": []
    },
    {
      "cell_type": "code",
      "source": [
        "#Prediction for k = 7\n",
        "cancer = KNeighborsClassifier(n_neighbors=7)\n",
        "X = datos['data']\n",
        "y = datos['target']\n",
        "\n",
        "#Fitting model\n",
        "cancer.fit(X, y)\n",
        "\n",
        "#Calculating prediction\n",
        "y_pred = cancer.predict(X)"
      ],
      "metadata": {
        "id": "VSLe5dy5cTt3"
      },
      "execution_count": 3,
      "outputs": []
    },
    {
      "cell_type": "code",
      "source": [
        "#Accuracy\n",
        "sum(y_pred == y)/len(y)"
      ],
      "metadata": {
        "colab": {
          "base_uri": "https://localhost:8080/"
        },
        "id": "r_OrFHs_e9zy",
        "outputId": "6a673db0-fa13-4568-f27d-cd17f90684c4"
      },
      "execution_count": 4,
      "outputs": [
        {
          "output_type": "execute_result",
          "data": {
            "text/plain": [
              "0.9437609841827768"
            ]
          },
          "metadata": {},
          "execution_count": 4
        }
      ]
    },
    {
      "cell_type": "code",
      "source": [
        "#Prediction for k = 5\n",
        "cancer = KNeighborsClassifier(n_neighbors=5)\n",
        "X = datos['data']\n",
        "y = datos['target']\n",
        "\n",
        "#Fitting model\n",
        "cancer.fit(X, y)\n",
        "\n",
        "#Calculating prediction\n",
        "y_pred = cancer.predict(X)"
      ],
      "metadata": {
        "id": "qZyGy0v7fnqc"
      },
      "execution_count": 5,
      "outputs": []
    },
    {
      "cell_type": "code",
      "source": [
        "#Accuracy\n",
        "sum(y_pred == y)/len(y)"
      ],
      "metadata": {
        "colab": {
          "base_uri": "https://localhost:8080/"
        },
        "id": "d7EuELYgfX95",
        "outputId": "e6cdcafc-520c-4c8b-bc6a-4d552adc6b2b"
      },
      "execution_count": 6,
      "outputs": [
        {
          "output_type": "execute_result",
          "data": {
            "text/plain": [
              "0.9472759226713533"
            ]
          },
          "metadata": {},
          "execution_count": 6
        }
      ]
    }
  ]
}