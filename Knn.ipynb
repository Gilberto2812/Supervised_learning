{
  "nbformat": 4,
  "nbformat_minor": 0,
  "metadata": {
    "colab": {
      "provenance": [],
      "authorship_tag": "ABX9TyP+qLKyAkk50k6BeZHJnh2B",
      "include_colab_link": true
    },
    "kernelspec": {
      "name": "python3",
      "display_name": "Python 3"
    },
    "language_info": {
      "name": "python"
    }
  },
  "cells": [
    {
      "cell_type": "markdown",
      "metadata": {
        "id": "view-in-github",
        "colab_type": "text"
      },
      "source": [
        "<a href=\"https://colab.research.google.com/github/Gilberto2812/Supervised_learning/blob/main/Knn.ipynb\" target=\"_parent\"><img src=\"https://colab.research.google.com/assets/colab-badge.svg\" alt=\"Open In Colab\"/></a>"
      ]
    },
    {
      "cell_type": "code",
      "execution_count": 1,
      "metadata": {
        "id": "vffDrbz4WMp_"
      },
      "outputs": [],
      "source": [
        "#Importing dependencies\n",
        "import pandas as pd\n",
        "import numpy as np"
      ]
    },
    {
      "cell_type": "code",
      "source": [
        "#Importing model\n",
        "from sklearn.neighbors import KNeighborsClassifier\n",
        "\n",
        "#Import data\n",
        "from sklearn.datasets import load_breast_cancer\n",
        "datos = load_breast_cancer()\n",
        "X = datos['data']\n",
        "y = datos['target']\n",
        "\n",
        "#Split train-test data\n",
        "from sklearn.model_selection import train_test_split\n",
        "X_train, X_test, y_train, y_test = train_test_split(X, y, test_size=0.30, random_state=5, stratify=y)\n",
        "ft = load_breast_cancer().feature_names"
      ],
      "metadata": {
        "id": "MriX9XkDb6Vl"
      },
      "execution_count": 2,
      "outputs": []
    },
    {
      "cell_type": "code",
      "source": [
        "#Prediction for k = 7\n",
        "cancer_7 = KNeighborsClassifier(n_neighbors=7)\n",
        "\n",
        "#Fitting model\n",
        "cancer_7.fit(X_train, y_train)\n",
        "\n",
        "#Calculating prediction\n",
        "y_pred = cancer_7.predict(X_test)"
      ],
      "metadata": {
        "id": "VSLe5dy5cTt3"
      },
      "execution_count": 6,
      "outputs": []
    },
    {
      "cell_type": "code",
      "source": [
        "#Accuracy\n",
        "cancer_7.score(X_test, y_test)"
      ],
      "metadata": {
        "colab": {
          "base_uri": "https://localhost:8080/"
        },
        "id": "r_OrFHs_e9zy",
        "outputId": "7032d8c2-bd0f-4f85-9e9f-7d60377bec35"
      },
      "execution_count": 7,
      "outputs": [
        {
          "output_type": "execute_result",
          "data": {
            "text/plain": [
              "0.9473684210526315"
            ]
          },
          "metadata": {},
          "execution_count": 7
        }
      ]
    },
    {
      "cell_type": "code",
      "source": [
        "#Prediction for k = 5\n",
        "cancer_5 = KNeighborsClassifier(n_neighbors=5)\n",
        "\n",
        "#Fitting model\n",
        "cancer_5.fit(X_train, y_train)\n",
        "\n",
        "#Calculating prediction\n",
        "y_pred = cancer_5.predict(X_test)"
      ],
      "metadata": {
        "id": "qZyGy0v7fnqc"
      },
      "execution_count": 11,
      "outputs": []
    },
    {
      "cell_type": "code",
      "source": [
        "#Accuracy\n",
        "cancer_5.score(X_test, y_test)"
      ],
      "metadata": {
        "colab": {
          "base_uri": "https://localhost:8080/"
        },
        "id": "d7EuELYgfX95",
        "outputId": "0ff4b4a6-a128-4a14-d763-ec43bfb7260a"
      },
      "execution_count": 12,
      "outputs": [
        {
          "output_type": "execute_result",
          "data": {
            "text/plain": [
              "0.935672514619883"
            ]
          },
          "metadata": {},
          "execution_count": 12
        }
      ]
    },
    {
      "cell_type": "markdown",
      "source": [
        "Accuracy is better for k = 7, so it's most likely to have accurate prediction using \"cancer_7\" model."
      ],
      "metadata": {
        "id": "TerG_aX9wzWm"
      }
    },
    {
      "cell_type": "code",
      "source": [
        "#Now we'll look for the best model between k = 1 and k = 30\n",
        "\n",
        "#Creating dict to save results\n",
        "results = {\n",
        "    key: [] for key in range(1, 31)\n",
        "}\n",
        "\n",
        "#Loop for looking the best knn model\n",
        "for seed in [3, 5, 10, 49]:  #We'll test for different seed, in order to get different train-test splits\n",
        "    X_train, X_test, y_train, y_test = train_test_split(X, y, test_size=0.30, random_state=seed, stratify=y)\n",
        "    for k in range(1, 31):\n",
        "        cancer = KNeighborsClassifier(n_neighbors=k)\n",
        "        cancer.fit(X_train, y_train)\n",
        "        sc = cancer.score(X_test, y_test)\n",
        "        results[k].append(sc)"
      ],
      "metadata": {
        "id": "3bvvcrpfxcfm"
      },
      "execution_count": 53,
      "outputs": []
    },
    {
      "cell_type": "code",
      "source": [
        "#Now it's time to compare results\n",
        "\n",
        "#Create a dataframe to manipulate data in an easier way\n",
        "results_df = pd.DataFrame(results)\n",
        "\n",
        "#Results\n",
        "print(f'If we look on the average score, the best model is k = {results_df.mean().idxmax()}, with a score = {results_df.mean().max()}')\n",
        "print(f'If we look on the maximum score value, the best model is k = {results_df.max().idxmax()}, with a score = {results_df.max().max()}')\n",
        "print(f'If we look on the minimum score, the best model is k = {results_df.min().idxmax()}, with a score = {results_df.min().max()}')"
      ],
      "metadata": {
        "colab": {
          "base_uri": "https://localhost:8080/"
        },
        "id": "cYwGeTSizeEn",
        "outputId": "c2855e2b-3989-4922-ae3f-4b9073ad7cd0"
      },
      "execution_count": 70,
      "outputs": [
        {
          "output_type": "stream",
          "name": "stdout",
          "text": [
            "If we look on the average score, the best model is k = 3, with a score = 0.9371345029239766\n",
            "If we look on the maximum score value, the best model is k = 3, with a score = 0.9532163742690059\n",
            "If we look on the minimum score, the best model is k = 3, with a score = 0.9298245614035088\n"
          ]
        }
      ]
    },
    {
      "cell_type": "markdown",
      "source": [
        "We can conclude that for these samples the best model is with k = 3"
      ],
      "metadata": {
        "id": "LnlJrCox4HQP"
      }
    }
  ]
}