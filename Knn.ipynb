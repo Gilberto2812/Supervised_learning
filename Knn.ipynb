{
  "nbformat": 4,
  "nbformat_minor": 0,
  "metadata": {
    "colab": {
      "provenance": [],
      "include_colab_link": true
    },
    "kernelspec": {
      "name": "python3",
      "display_name": "Python 3"
    },
    "language_info": {
      "name": "python"
    }
  },
  "cells": [
    {
      "cell_type": "markdown",
      "metadata": {
        "id": "view-in-github",
        "colab_type": "text"
      },
      "source": [
        "<a href=\"https://colab.research.google.com/github/Gilberto2812/Supervised_learning/blob/main/Knn.ipynb\" target=\"_parent\"><img src=\"https://colab.research.google.com/assets/colab-badge.svg\" alt=\"Open In Colab\"/></a>"
      ]
    },
    {
      "cell_type": "code",
      "execution_count": 1,
      "metadata": {
        "id": "vffDrbz4WMp_"
      },
      "outputs": [],
      "source": [
        "#Importing dependencies\n",
        "import pandas as pd\n",
        "import numpy as np\n",
        "import matplotlib.pyplot as plt"
      ]
    },
    {
      "cell_type": "code",
      "source": [
        "#Importing model\n",
        "from sklearn.neighbors import KNeighborsClassifier\n",
        "\n",
        "#Import data\n",
        "from sklearn.datasets import load_breast_cancer\n",
        "datos = load_breast_cancer()\n",
        "X = datos['data']\n",
        "y = datos['target']\n",
        "\n",
        "#Split train-test data\n",
        "from sklearn.model_selection import train_test_split\n",
        "X_train, X_test, y_train, y_test = train_test_split(X, y, test_size=0.30, random_state=5, stratify=y)\n",
        "ft = load_breast_cancer().feature_names"
      ],
      "metadata": {
        "id": "MriX9XkDb6Vl"
      },
      "execution_count": 2,
      "outputs": []
    },
    {
      "cell_type": "code",
      "source": [
        "#Prediction for k = 7\n",
        "cancer_7 = KNeighborsClassifier(n_neighbors=7)\n",
        "\n",
        "#Fitting model\n",
        "cancer_7.fit(X_train, y_train)\n",
        "\n",
        "#Calculating prediction\n",
        "y_pred = cancer_7.predict(X_test)"
      ],
      "metadata": {
        "id": "VSLe5dy5cTt3"
      },
      "execution_count": 3,
      "outputs": []
    },
    {
      "cell_type": "code",
      "source": [
        "#Accuracy\n",
        "cancer_7.score(X_test, y_test)"
      ],
      "metadata": {
        "colab": {
          "base_uri": "https://localhost:8080/"
        },
        "id": "r_OrFHs_e9zy",
        "outputId": "b8d3d70f-ac3e-475c-c117-90aca02fe936"
      },
      "execution_count": 4,
      "outputs": [
        {
          "output_type": "execute_result",
          "data": {
            "text/plain": [
              "0.9473684210526315"
            ]
          },
          "metadata": {},
          "execution_count": 4
        }
      ]
    },
    {
      "cell_type": "code",
      "source": [
        "#Prediction for k = 5\n",
        "cancer_5 = KNeighborsClassifier(n_neighbors=5)\n",
        "\n",
        "#Fitting model\n",
        "cancer_5.fit(X_train, y_train)\n",
        "\n",
        "#Calculating prediction\n",
        "y_pred = cancer_5.predict(X_test)"
      ],
      "metadata": {
        "id": "qZyGy0v7fnqc"
      },
      "execution_count": 5,
      "outputs": []
    },
    {
      "cell_type": "code",
      "source": [
        "#Accuracy\n",
        "cancer_5.score(X_test, y_test)"
      ],
      "metadata": {
        "colab": {
          "base_uri": "https://localhost:8080/"
        },
        "id": "d7EuELYgfX95",
        "outputId": "c9e6fb72-feb3-49e1-e078-f714a8c9cfb2"
      },
      "execution_count": 6,
      "outputs": [
        {
          "output_type": "execute_result",
          "data": {
            "text/plain": [
              "0.935672514619883"
            ]
          },
          "metadata": {},
          "execution_count": 6
        }
      ]
    },
    {
      "cell_type": "markdown",
      "source": [
        "Accuracy is better for k = 7, so it's most likely to have accurate prediction using \"cancer_7\" model."
      ],
      "metadata": {
        "id": "TerG_aX9wzWm"
      }
    },
    {
      "cell_type": "code",
      "source": [
        "#Now we'll look for the best model between k = 1 and k = 30\n",
        "\n",
        "#Creating dict to save results\n",
        "results = {\n",
        "    key: [] for key in range(1, 31)\n",
        "}\n",
        "\n",
        "#Loop for looking the best knn model\n",
        "for seed in [3, 5, 10, 49]:  #We'll test for different seed, in order to get different train-test splits\n",
        "    X_train, X_test, y_train, y_test = train_test_split(X, y, test_size=0.30, random_state=seed, stratify=y)\n",
        "    for k in range(1, 31):\n",
        "        cancer = KNeighborsClassifier(n_neighbors=k)\n",
        "        cancer.fit(X_train, y_train)\n",
        "        sc = cancer.score(X_test, y_test)\n",
        "        results[k].append(sc)"
      ],
      "metadata": {
        "id": "3bvvcrpfxcfm"
      },
      "execution_count": 7,
      "outputs": []
    },
    {
      "cell_type": "code",
      "source": [
        "#Now it's time to compare results\n",
        "\n",
        "#Create a dataframe to manipulate data in an easier way\n",
        "results_df = pd.DataFrame(results)\n",
        "\n",
        "#Results\n",
        "print(f'If we look on the average score, the best model is k = {results_df.mean().idxmax()}, with a score = {results_df.mean().max()}')\n",
        "print(f'If we look on the maximum score value, the best model is k = {results_df.max().idxmax()}, with a score = {results_df.max().max()}')\n",
        "print(f'If we look on the minimum score, the best model is k = {results_df.min().idxmax()}, with a score = {results_df.min().max()}')"
      ],
      "metadata": {
        "colab": {
          "base_uri": "https://localhost:8080/"
        },
        "id": "cYwGeTSizeEn",
        "outputId": "3974f6c9-7941-4d17-ec14-f56e797fc832"
      },
      "execution_count": 8,
      "outputs": [
        {
          "output_type": "stream",
          "name": "stdout",
          "text": [
            "If we look on the average score, the best model is k = 3, with a score = 0.9371345029239766\n",
            "If we look on the maximum score value, the best model is k = 3, with a score = 0.9532163742690059\n",
            "If we look on the minimum score, the best model is k = 3, with a score = 0.9298245614035088\n"
          ]
        }
      ]
    },
    {
      "cell_type": "markdown",
      "source": [
        "We can conclude that for these samples the best model is with k = 3"
      ],
      "metadata": {
        "id": "LnlJrCox4HQP"
      }
    },
    {
      "cell_type": "code",
      "source": [
        "#Plotting test and training accuracy\n",
        "test_accuracy = {}\n",
        "training_accuracy = {}\n",
        "neighbors = np.arange(1, 21)\n",
        "for k in neighbors:\n",
        "    cancer = KNeighborsClassifier(n_neighbors=k)\n",
        "    cancer.fit(X_train, y_train)\n",
        "    training_accuracy[k] = cancer.score(X_train, y_train)\n",
        "    test_accuracy[k] = cancer.score(X_test, y_test)\n",
        "\n",
        "plt.title('Accuracy')\n",
        "plt.xlabel('Neighbors')\n",
        "plt.ylabel('Accuracy')\n",
        "\n",
        "plt.plot(neighbors, list(training_accuracy.values()), label=\"Training Accuracy\")\n",
        "plt.plot(neighbors, list(test_accuracy.values()), label=\"Testing Accuracy\")\n",
        "plt.legend()\n",
        "\n",
        "plt.show()"
      ],
      "metadata": {
        "id": "R5MqlP_oFOi0",
        "outputId": "8fdd1e9c-ac1b-4804-e96b-968ed501a8c6",
        "colab": {
          "base_uri": "https://localhost:8080/",
          "height": 295
        }
      },
      "execution_count": 9,
      "outputs": [
        {
          "output_type": "display_data",
          "data": {
            "text/plain": [
              "<Figure size 432x288 with 1 Axes>"
            ],
            "image/png": "[encoded data removed]"
          },
          "metadata": {
            "needs_background": "light"
          }
        }
      ]
    }
  ]
}